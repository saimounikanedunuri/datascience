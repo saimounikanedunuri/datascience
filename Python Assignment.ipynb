{
 "cells": [
  {
   "cell_type": "markdown",
   "id": "dbd98cdb",
   "metadata": {},
   "source": [
    "# Variables"
   ]
  },
  {
   "cell_type": "raw",
   "id": "8f8d4ca2",
   "metadata": {},
   "source": [
    " Create a variable called break and assign it a value 5. \n",
    "See what happens and find out the reason behind the behavior that you see."
   ]
  },
  {
   "cell_type": "code",
   "execution_count": 1,
   "id": "c17231cb",
   "metadata": {},
   "outputs": [
    {
     "ename": "SyntaxError",
     "evalue": "invalid syntax (3979291220.py, line 1)",
     "output_type": "error",
     "traceback": [
      "\u001b[1;36m  Input \u001b[1;32mIn [1]\u001b[1;36m\u001b[0m\n\u001b[1;33m    break = 5 # break is a inbuilt variable, we cannot assign value to it.\u001b[0m\n\u001b[1;37m          ^\u001b[0m\n\u001b[1;31mSyntaxError\u001b[0m\u001b[1;31m:\u001b[0m invalid syntax\n"
     ]
    }
   ],
   "source": [
    "break = 5 # break is a inbuilt variable, we cannot assign value to it."
   ]
  },
  {
   "cell_type": "raw",
   "id": "cf353fef",
   "metadata": {},
   "source": [
    " Create two variables. One to store your birth year and another one to store current year.\n",
    "Now calculate your age using these two variables"
   ]
  },
  {
   "cell_type": "code",
   "execution_count": 2,
   "id": "19b029c4",
   "metadata": {},
   "outputs": [
    {
     "name": "stdout",
     "output_type": "stream",
     "text": [
      "27\n"
     ]
    }
   ],
   "source": [
    "year = 1996\n",
    "now = 2023\n",
    "age=now-year\n",
    "print(age)"
   ]
  },
  {
   "cell_type": "raw",
   "id": "90ed9956",
   "metadata": {},
   "source": [
    "Store your first, middle and last name in three different variables and then print your full name using these variables"
   ]
  },
  {
   "cell_type": "code",
   "execution_count": 6,
   "id": "995cd0fd",
   "metadata": {},
   "outputs": [
    {
     "name": "stdout",
     "output_type": "stream",
     "text": [
      "Nedunuri Sai Mounika\n"
     ]
    }
   ],
   "source": [
    "first = 'Nedunuri'\n",
    "middle = 'Sai'\n",
    "last = 'Mounika'\n",
    "print(first+ \" \"+middle+\" \" + last)"
   ]
  },
  {
   "cell_type": "raw",
   "id": "11e24058",
   "metadata": {},
   "source": [
    "Answer which of these are invalid variable names: _nation 1record record1 record_one record-one record^one continue"
   ]
  },
  {
   "cell_type": "code",
   "execution_count": null,
   "id": "731e9ee4",
   "metadata": {},
   "outputs": [],
   "source": [
    "1record, record-one, record^one, continue"
   ]
  },
  {
   "cell_type": "markdown",
   "id": "d57457e9",
   "metadata": {},
   "source": [
    "# Numbers"
   ]
  },
  {
   "cell_type": "raw",
   "id": "b6c9e649",
   "metadata": {},
   "source": [
    "You have a football field that is 92 meter long and 48.8 meter wide. Find out total area using python and print it."
   ]
  },
  {
   "cell_type": "code",
   "execution_count": 19,
   "id": "195b1df9",
   "metadata": {},
   "outputs": [
    {
     "name": "stdout",
     "output_type": "stream",
     "text": [
      "4489.599999999999\n"
     ]
    }
   ],
   "source": [
    "long= 92\n",
    "wide=48.8\n",
    "area= long * wide\n",
    "print(area)"
   ]
  },
  {
   "cell_type": "raw",
   "id": "9ac2519b",
   "metadata": {},
   "source": [
    "You bought 9 packets of potato chips from a store. Each packet costs 1.49 dollar and you gave shopkeeper 20 dollar.\n",
    "Find out using python, how many dollars is the shopkeeper going to give you back?"
   ]
  },
  {
   "cell_type": "code",
   "execution_count": 21,
   "id": "2f7e1a3b",
   "metadata": {},
   "outputs": [
    {
     "name": "stdout",
     "output_type": "stream",
     "text": [
      "6.59\n"
     ]
    }
   ],
   "source": [
    "chips = 9\n",
    "cost = 1.49 \n",
    "sum=9*1.49\n",
    "given=20\n",
    "back=given-sum\n",
    "print(back)"
   ]
  },
  {
   "cell_type": "raw",
   "id": "8c5ee223",
   "metadata": {},
   "source": [
    "You want to replace tiles in your bathroom which is exactly square and 5.5 feet is its length. \n",
    "If tiles cost 500 rs per square feet, how much will be the total cost to replace all tiles. \n",
    "Calculate and print the cost using python (Hint: Use power operator ** to find area of a square)"
   ]
  },
  {
   "cell_type": "code",
   "execution_count": 27,
   "id": "2392983b",
   "metadata": {},
   "outputs": [
    {
     "name": "stdout",
     "output_type": "stream",
     "text": [
      "15125.0\n"
     ]
    }
   ],
   "source": [
    "length=5.5\n",
    "price=500\n",
    "tiles=length**2\n",
    "sum=tiles*price\n",
    "print(sum)"
   ]
  },
  {
   "cell_type": "raw",
   "id": "a5f65771",
   "metadata": {},
   "source": [
    "Print binary representation of number 17"
   ]
  },
  {
   "cell_type": "code",
   "execution_count": 28,
   "id": "ba0ede4c",
   "metadata": {},
   "outputs": [
    {
     "name": "stdout",
     "output_type": "stream",
     "text": [
      "10001\n"
     ]
    }
   ],
   "source": [
    "num=17\n",
    "print(format(num,'b'))"
   ]
  },
  {
   "cell_type": "markdown",
   "id": "70823f5c",
   "metadata": {},
   "source": [
    "# Strings"
   ]
  },
  {
   "cell_type": "raw",
   "id": "007274a2",
   "metadata": {},
   "source": [
    "Create 3 variables to store street, city and country, now create address variable to store entire address. \n",
    "Use two ways of creating this variable, one using + operator and the other using f-string. \n",
    "Now Print the address in such a way that the street, city and country prints in a separate line"
   ]
  },
  {
   "cell_type": "code",
   "execution_count": 57,
   "id": "21e9447f",
   "metadata": {},
   "outputs": [
    {
     "name": "stdout",
     "output_type": "stream",
     "text": [
      "Busstand\n",
      "Peddapalli\n",
      "India\n",
      "Busstand\n",
      "Peddapalli\n",
      "India\n"
     ]
    }
   ],
   "source": [
    "street='Busstand'\n",
    "city='Peddapalli'\n",
    "country ='India'\n",
    "address=street+'\\n'+city+'\\n'+country\n",
    "print(address)\n",
    "address1= f'{street}\\n{city}\\n{country}'\n",
    "print(address1)"
   ]
  },
  {
   "cell_type": "raw",
   "id": "df7e2c71",
   "metadata": {},
   "source": [
    "Create a variable to store the string \"Earth revolves around the sun\"\n",
    "Print \"revolves\" using slice operator\n",
    "Print \"sun\" using negative index"
   ]
  },
  {
   "cell_type": "code",
   "execution_count": 46,
   "id": "1f30a8c4",
   "metadata": {},
   "outputs": [
    {
     "name": "stdout",
     "output_type": "stream",
     "text": [
      "revolves\n",
      "sun\n"
     ]
    }
   ],
   "source": [
    "var1=\"Earth revolves around the sun\"\n",
    "print(var1[6:14])\n",
    "print(var1[-3:])"
   ]
  },
  {
   "cell_type": "raw",
   "id": "ac41a028",
   "metadata": {},
   "source": [
    "Create two variables to store how many fruits and vegetables you eat in a day. \n",
    "Now Print \"I eat x veggies and y fruits daily\" where x and y presents vegetables and fruits that you eat everyday. \n",
    "Use python f string for this."
   ]
  },
  {
   "cell_type": "code",
   "execution_count": 48,
   "id": "46ae0021",
   "metadata": {},
   "outputs": [
    {
     "name": "stdout",
     "output_type": "stream",
     "text": [
      "I eat 2 veggies and 1 fruits daily\n"
     ]
    }
   ],
   "source": [
    "x=2\n",
    "y=1\n",
    "print(f\"I eat {x} veggies and {y} fruits daily\")"
   ]
  },
  {
   "cell_type": "raw",
   "id": "f1cc531e",
   "metadata": {},
   "source": [
    "I have a string variable called s='maine 200 banana khaye'. \n",
    "This of course is a wrong statement, the correct statement is 'maine 10 samosa khaye'. \n",
    "Replace incorrect words in original strong with new ones and print the new string. Also try to do this in one line."
   ]
  },
  {
   "cell_type": "code",
   "execution_count": 59,
   "id": "7f48278c",
   "metadata": {},
   "outputs": [
    {
     "name": "stdout",
     "output_type": "stream",
     "text": [
      "maine 10 samosa khaye\n",
      "Using single line: maine 10 samosa khaye\n"
     ]
    }
   ],
   "source": [
    "w='maine 200 banana khaye'\n",
    "c='maine 10 samosa khaye'\n",
    "final1=w.replace('200','10')\n",
    "last=final1.replace('banana','samosa')\n",
    "print(last)\n",
    "s='maine 200 banana khaye'\n",
    "s=s.replace('banana','samosa').replace('200','10')\n",
    "print(\"Using single line:\",s)"
   ]
  },
  {
   "cell_type": "markdown",
   "id": "4d2f1142",
   "metadata": {},
   "source": [
    "# Lists"
   ]
  },
  {
   "cell_type": "raw",
   "id": "d5202255",
   "metadata": {},
   "source": [
    "Let us say your expense for every month are listed below,\n",
    "January - 2200\n",
    "February - 2350\n",
    "March - 2600\n",
    "April - 2130\n",
    "May - 2190\n",
    "Create a list to store these monthly expenses and using that find out,\n",
    "\n",
    "1. In Feb, how many dollars you spent extra compare to January?\n",
    "2. Find out your total expense in first quarter (first three months) of the year.\n",
    "3. Find out if you spent exactly 2000 dollars in any month\n",
    "4. June month just finished and your expense is 1980 dollar. Add this item to our monthly expense list\n",
    "5. You returned an item that you bought in a month of April and\n",
    "got a refund of 200$. Make a correction to your monthly expense list\n",
    "based on this"
   ]
  },
  {
   "cell_type": "code",
   "execution_count": 60,
   "id": "7d443a0d",
   "metadata": {},
   "outputs": [
    {
     "name": "stdout",
     "output_type": "stream",
     "text": [
      "150\n"
     ]
    }
   ],
   "source": [
    "#1. In Feb, how many dollars you spent extra compare to January?\n",
    "exp=[2200,2350,2600,2130,2190]\n",
    "feb=exp[1]-exp[0]\n",
    "print(feb)"
   ]
  },
  {
   "cell_type": "code",
   "execution_count": 61,
   "id": "448e3019",
   "metadata": {},
   "outputs": [
    {
     "name": "stdout",
     "output_type": "stream",
     "text": [
      "7150\n"
     ]
    }
   ],
   "source": [
    "#2. Find out your total expense in first quarter (first three months) of the year.\n",
    "qua=exp[0]+exp[1]+exp[2]\n",
    "print(qua)"
   ]
  },
  {
   "cell_type": "code",
   "execution_count": 62,
   "id": "45ce7dbb",
   "metadata": {},
   "outputs": [
    {
     "name": "stdout",
     "output_type": "stream",
     "text": [
      "False\n"
     ]
    }
   ],
   "source": [
    "#3. Find out if you spent exactly 2000 dollars in any month\n",
    "print(2000 in exp)"
   ]
  },
  {
   "cell_type": "code",
   "execution_count": 65,
   "id": "99f36030",
   "metadata": {},
   "outputs": [
    {
     "name": "stdout",
     "output_type": "stream",
     "text": [
      "[2200, 2350, 2600, 2130, 2190, 1980]\n"
     ]
    }
   ],
   "source": [
    "#4. June month just finished and your expense is 1980 dollar. Add this item to our monthly expense list\n",
    "exp.append(1980)\n",
    "print(exp)"
   ]
  },
  {
   "cell_type": "code",
   "execution_count": 67,
   "id": "146821c4",
   "metadata": {},
   "outputs": [
    {
     "name": "stdout",
     "output_type": "stream",
     "text": [
      "1930\n",
      "[2200, 2350, 2600, 1930, 2190, 1980]\n"
     ]
    }
   ],
   "source": [
    "#5. You returned an item that you bought in a month of April and got a refund of 200$. \n",
    "# Make a correction to your monthly expense list based on this\n",
    "exp1=exp[3]-200\n",
    "print(exp1)\n",
    "exp[3]=1930\n",
    "print(exp)"
   ]
  },
  {
   "cell_type": "raw",
   "id": "8691e5a3",
   "metadata": {},
   "source": [
    "You have a list of your favourite marvel super heros.\n",
    "heros=['spider man','thor','hulk','iron man','captain america']\n",
    "\n",
    "Using this find out,\n",
    "1. Length of the list\n",
    "2. Add 'black panther' at the end of this list\n",
    "3. You realize that you need to add 'black panther' after 'hulk',\n",
    "   so remove it from the list first and then add it after 'hulk'\n",
    "4. Now you don't like thor and hulk because they get angry easily :)\n",
    "   So you want to remove thor and hulk from list and replace them with doctor strange (because he is cool).\n",
    "   Do that with one line of code.\n",
    "5. Sort the heros list in alphabetical order (Hint. Use dir() functions to list down all functions available in list)"
   ]
  },
  {
   "cell_type": "code",
   "execution_count": 68,
   "id": "66513a39",
   "metadata": {},
   "outputs": [],
   "source": [
    "heros=['spider man','thor','hulk','iron man','captain america']"
   ]
  },
  {
   "cell_type": "code",
   "execution_count": 72,
   "id": "02d5146f",
   "metadata": {},
   "outputs": [
    {
     "data": {
      "text/plain": [
       "5"
      ]
     },
     "execution_count": 72,
     "metadata": {},
     "output_type": "execute_result"
    }
   ],
   "source": [
    "#1. Length of the list\n",
    "len(heros)"
   ]
  },
  {
   "cell_type": "code",
   "execution_count": 74,
   "id": "fc69e571",
   "metadata": {},
   "outputs": [
    {
     "name": "stdout",
     "output_type": "stream",
     "text": [
      "['spider man', 'thor', 'hulk', 'iron man', 'captain america', 'black panther', 'black panther']\n"
     ]
    }
   ],
   "source": [
    "#2. Add 'black panther' at the end of this list\n",
    "heros.append('black panther')\n",
    "print(heros)"
   ]
  },
  {
   "cell_type": "code",
   "execution_count": 75,
   "id": "5b684213",
   "metadata": {},
   "outputs": [
    {
     "name": "stdout",
     "output_type": "stream",
     "text": [
      "['spider man', 'thor', 'hulk', 'black panther', 'captain america', 'black panther']\n"
     ]
    }
   ],
   "source": [
    "#3. You realize that you need to add 'black panther' after 'hulk',\n",
    "#so remove it from the list first and then add it after 'hulk'\n",
    "heros.remove('black panther')\n",
    "heros[3]='black panther'\n",
    "print(heros)"
   ]
  },
  {
   "cell_type": "code",
   "execution_count": 77,
   "id": "f7348494",
   "metadata": {},
   "outputs": [
    {
     "name": "stdout",
     "output_type": "stream",
     "text": [
      "['spider man', 'doctor strange', 'hulk', 'black panther', 'captain america', 'black panther']\n"
     ]
    }
   ],
   "source": [
    "#4. Now you don't like thor and hulk because they get angry easily :)\n",
    " #  So you want to remove thor and hulk from list and replace them with doctor strange (because he is cool).\n",
    "  # Do that with one line of code.\n",
    "heros[1]='doctor strange'\n",
    "print(heros"
   ]
  },
  {
   "cell_type": "markdown",
   "id": "78b16221",
   "metadata": {},
   "source": [
    "# Python if condition"
   ]
  },
  {
   "cell_type": "code",
   "execution_count": 2,
   "id": "8a5abf60",
   "metadata": {},
   "outputs": [],
   "source": [
    "india = [\"mumbai\", \"banglore\", \"chennai\", \"delhi\"]\n",
    "pakistan = [\"lahore\",\"karachi\",\"islamabad\"]\n",
    "bangladesh = [\"dhaka\", \"khulna\", \"rangpur\"]"
   ]
  },
  {
   "cell_type": "code",
   "execution_count": 5,
   "id": "e9eb6bb5",
   "metadata": {},
   "outputs": [
    {
     "name": "stdout",
     "output_type": "stream",
     "text": [
      "dhaka\n",
      "Bangladesh\n"
     ]
    }
   ],
   "source": [
    "# Write a program that asks user to enter a city name and it should tell which country the city belongs to\n",
    "user=input()\n",
    "if user in india:\n",
    "    print(\"India\")\n",
    "elif user in pakistan:\n",
    "    print(\"Pakistan\")\n",
    "elif user in bangladesh:\n",
    "    print(\"Bangladesh\")"
   ]
  },
  {
   "cell_type": "code",
   "execution_count": 11,
   "id": "fe5849c0",
   "metadata": {},
   "outputs": [
    {
     "name": "stdout",
     "output_type": "stream",
     "text": [
      "dhaka\n",
      "mumbai\n",
      "They don't belong to same country\n"
     ]
    }
   ],
   "source": [
    "# Write a program that asks user to enter two cities and it tells you if they both are in same country or not. \n",
    "# For example if I enter mumbai and chennai, it will print \"Both cities are in India\" but if \n",
    "# I enter mumbai and dhaka it should print \"They don't belong to same country\"\n",
    "city1=input()\n",
    "city2=input()\n",
    "if city1 in india and city2 in india:\n",
    "    print(\"Both cities are in India\")\n",
    "elif city1 in pakistan and city2 in pakistan:\n",
    "    print(\"Both cities are in Pakistan\")\n",
    "elif city1 in bangladesh and city2 in bangladesh:\n",
    "    print(\"Both cities are in Bangladesh\")\n",
    "else:\n",
    "    print(\"They don't belong to same country\")"
   ]
  },
  {
   "cell_type": "code",
   "execution_count": 19,
   "id": "90a7172b",
   "metadata": {},
   "outputs": [
    {
     "name": "stdout",
     "output_type": "stream",
     "text": [
      "110\n",
      "Sugar is high\n"
     ]
    }
   ],
   "source": [
    "#Write a python program that can tell you if your sugar is normal or not. Normal fasting level sugar range is 80 to 100.\n",
    "#Ask user to enter his fasting sugar level\n",
    "#If it is below 80 to 100 range then print that sugar is low\n",
    "#If it is above 100 then print that it is high otherwise print that it is normal\n",
    "user=input()\n",
    "sugar=float(user)\n",
    "if sugar<80:\n",
    "    print(\"Sugar is low\")\n",
    "elif sugar>100:\n",
    "    print(\"Sugar is high\")\n",
    "else:\n",
    "    print(\"Normal\")"
   ]
  },
  {
   "cell_type": "markdown",
   "id": "c8fd2be8",
   "metadata": {},
   "source": [
    "# Python for loop"
   ]
  },
  {
   "cell_type": "code",
   "execution_count": 20,
   "id": "b5aaa010",
   "metadata": {},
   "outputs": [],
   "source": [
    "result = [\"heads\",\"tails\",\"tails\",\"heads\",\"tails\",\"heads\",\"heads\",\"tails\",\"tails\",\"tails\"]"
   ]
  },
  {
   "cell_type": "code",
   "execution_count": 26,
   "id": "a677d6a6",
   "metadata": {},
   "outputs": [
    {
     "name": "stdout",
     "output_type": "stream",
     "text": [
      "4\n"
     ]
    }
   ],
   "source": [
    "#Using for loop figure out how many times you got heads\n",
    "count=0\n",
    "for i in result:\n",
    "    if i == \"heads\":\n",
    "        count+=1\n",
    "print(count)"
   ]
  },
  {
   "cell_type": "code",
   "execution_count": 29,
   "id": "dcec9c60",
   "metadata": {},
   "outputs": [
    {
     "name": "stdout",
     "output_type": "stream",
     "text": [
      "1\n",
      "9\n",
      "25\n",
      "49\n",
      "81\n"
     ]
    }
   ],
   "source": [
    "#Print square of all numbers between 1 to 10 except even numbers\n",
    "for i in range(1,11):\n",
    "    if i%2 == 0:\n",
    "        continue\n",
    "    print(i*i)"
   ]
  },
  {
   "cell_type": "code",
   "execution_count": 30,
   "id": "a58daab2",
   "metadata": {},
   "outputs": [],
   "source": []
  },
  {
   "cell_type": "code",
   "execution_count": null,
   "id": "714d9190",
   "metadata": {},
   "outputs": [],
   "source": []
  }
 ],
 "metadata": {
  "kernelspec": {
   "display_name": "Python 3 (ipykernel)",
   "language": "python",
   "name": "python3"
  },
  "language_info": {
   "codemirror_mode": {
    "name": "ipython",
    "version": 3
   },
   "file_extension": ".py",
   "mimetype": "text/x-python",
   "name": "python",
   "nbconvert_exporter": "python",
   "pygments_lexer": "ipython3",
   "version": "3.9.12"
  }
 },
 "nbformat": 4,
 "nbformat_minor": 5
}
