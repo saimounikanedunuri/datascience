{
 "cells": [
  {
   "cell_type": "markdown",
   "id": "3b88db18",
   "metadata": {},
   "source": [
    "# Variables"
   ]
  },
  {
   "cell_type": "raw",
   "id": "3bcadbeb",
   "metadata": {},
   "source": [
    " Create a variable called break and assign it a value 5. \n",
    "See what happens and find out the reason behind the behavior that you see."
   ]
  },
  {
   "cell_type": "code",
   "execution_count": 1,
   "id": "29930a60",
   "metadata": {},
   "outputs": [
    {
     "ename": "SyntaxError",
     "evalue": "invalid syntax (3979291220.py, line 1)",
     "output_type": "error",
     "traceback": [
      "\u001b[1;36m  Input \u001b[1;32mIn [1]\u001b[1;36m\u001b[0m\n\u001b[1;33m    break = 5 # break is a inbuilt variable, we cannot assign value to it.\u001b[0m\n\u001b[1;37m          ^\u001b[0m\n\u001b[1;31mSyntaxError\u001b[0m\u001b[1;31m:\u001b[0m invalid syntax\n"
     ]
    }
   ],
   "source": [
    "break = 5 # break is a inbuilt variable, we cannot assign value to it."
   ]
  },
  {
   "cell_type": "raw",
   "id": "3912b4ef",
   "metadata": {},
   "source": [
    " Create two variables. One to store your birth year and another one to store current year.\n",
    "Now calculate your age using these two variables"
   ]
  },
  {
   "cell_type": "code",
   "execution_count": 2,
   "id": "9e729d0a",
   "metadata": {},
   "outputs": [
    {
     "name": "stdout",
     "output_type": "stream",
     "text": [
      "27\n"
     ]
    }
   ],
   "source": [
    "year = 1996\n",
    "now = 2023\n",
    "age=now-year\n",
    "print(age)"
   ]
  },
  {
   "cell_type": "raw",
   "id": "41c20bda",
   "metadata": {},
   "source": [
    "Store your first, middle and last name in three different variables and then print your full name using these variables"
   ]
  },
  {
   "cell_type": "code",
   "execution_count": 6,
   "id": "cc9bfd14",
   "metadata": {},
   "outputs": [
    {
     "name": "stdout",
     "output_type": "stream",
     "text": [
      "Nedunuri Sai Mounika\n"
     ]
    }
   ],
   "source": [
    "first = 'Nedunuri'\n",
    "middle = 'Sai'\n",
    "last = 'Mounika'\n",
    "print(first+ \" \"+middle+\" \" + last)"
   ]
  },
  {
   "cell_type": "raw",
   "id": "70b97b84",
   "metadata": {},
   "source": [
    "Answer which of these are invalid variable names: _nation 1record record1 record_one record-one record^one continue"
   ]
  },
  {
   "cell_type": "code",
   "execution_count": null,
   "id": "878328b4",
   "metadata": {},
   "outputs": [],
   "source": [
    "1record, record-one, record^one, continue"
   ]
  },
  {
   "cell_type": "markdown",
   "id": "05d28aef",
   "metadata": {},
   "source": [
    "# Numbers"
   ]
  },
  {
   "cell_type": "raw",
   "id": "623d7d09",
   "metadata": {},
   "source": [
    "You have a football field that is 92 meter long and 48.8 meter wide. Find out total area using python and print it."
   ]
  },
  {
   "cell_type": "code",
   "execution_count": 19,
   "id": "98c41959",
   "metadata": {},
   "outputs": [
    {
     "name": "stdout",
     "output_type": "stream",
     "text": [
      "4489.599999999999\n"
     ]
    }
   ],
   "source": [
    "long= 92\n",
    "wide=48.8\n",
    "area= long * wide\n",
    "print(area)"
   ]
  },
  {
   "cell_type": "raw",
   "id": "2e7d0065",
   "metadata": {},
   "source": [
    "You bought 9 packets of potato chips from a store. Each packet costs 1.49 dollar and you gave shopkeeper 20 dollar.\n",
    "Find out using python, how many dollars is the shopkeeper going to give you back?"
   ]
  },
  {
   "cell_type": "code",
   "execution_count": 21,
   "id": "bb72cc8c",
   "metadata": {},
   "outputs": [
    {
     "name": "stdout",
     "output_type": "stream",
     "text": [
      "6.59\n"
     ]
    }
   ],
   "source": [
    "chips = 9\n",
    "cost = 1.49 \n",
    "sum=9*1.49\n",
    "given=20\n",
    "back=given-sum\n",
    "print(back)"
   ]
  },
  {
   "cell_type": "raw",
   "id": "07e8e51c",
   "metadata": {},
   "source": [
    "You want to replace tiles in your bathroom which is exactly square and 5.5 feet is its length. \n",
    "If tiles cost 500 rs per square feet, how much will be the total cost to replace all tiles. \n",
    "Calculate and print the cost using python (Hint: Use power operator ** to find area of a square)"
   ]
  },
  {
   "cell_type": "code",
   "execution_count": 27,
   "id": "97b15375",
   "metadata": {},
   "outputs": [
    {
     "name": "stdout",
     "output_type": "stream",
     "text": [
      "15125.0\n"
     ]
    }
   ],
   "source": [
    "length=5.5\n",
    "price=500\n",
    "tiles=length**2\n",
    "sum=tiles*price\n",
    "print(sum)"
   ]
  },
  {
   "cell_type": "raw",
   "id": "e5fae9ed",
   "metadata": {},
   "source": [
    "Print binary representation of number 17"
   ]
  },
  {
   "cell_type": "code",
   "execution_count": 28,
   "id": "15a5d4c2",
   "metadata": {},
   "outputs": [
    {
     "name": "stdout",
     "output_type": "stream",
     "text": [
      "10001\n"
     ]
    }
   ],
   "source": [
    "num=17\n",
    "print(format(num,'b'))"
   ]
  },
  {
   "cell_type": "markdown",
   "id": "1c1214c3",
   "metadata": {},
   "source": [
    "# Strings"
   ]
  },
  {
   "cell_type": "raw",
   "id": "af2cbed3",
   "metadata": {},
   "source": [
    "Create 3 variables to store street, city and country, now create address variable to store entire address. \n",
    "Use two ways of creating this variable, one using + operator and the other using f-string. \n",
    "Now Print the address in such a way that the street, city and country prints in a separate line"
   ]
  },
  {
   "cell_type": "code",
   "execution_count": 57,
   "id": "7bce4b7b",
   "metadata": {},
   "outputs": [
    {
     "name": "stdout",
     "output_type": "stream",
     "text": [
      "Busstand\n",
      "Peddapalli\n",
      "India\n",
      "Busstand\n",
      "Peddapalli\n",
      "India\n"
     ]
    }
   ],
   "source": [
    "street='Busstand'\n",
    "city='Peddapalli'\n",
    "country ='India'\n",
    "address=street+'\\n'+city+'\\n'+country\n",
    "print(address)\n",
    "address1= f'{street}\\n{city}\\n{country}'\n",
    "print(address1)"
   ]
  },
  {
   "cell_type": "raw",
   "id": "3f810f0e",
   "metadata": {},
   "source": [
    "Create a variable to store the string \"Earth revolves around the sun\"\n",
    "Print \"revolves\" using slice operator\n",
    "Print \"sun\" using negative index"
   ]
  },
  {
   "cell_type": "code",
   "execution_count": 46,
   "id": "93780adf",
   "metadata": {},
   "outputs": [
    {
     "name": "stdout",
     "output_type": "stream",
     "text": [
      "revolves\n",
      "sun\n"
     ]
    }
   ],
   "source": [
    "var1=\"Earth revolves around the sun\"\n",
    "print(var1[6:14])\n",
    "print(var1[-3:])"
   ]
  },
  {
   "cell_type": "raw",
   "id": "9421bde2",
   "metadata": {},
   "source": [
    "Create two variables to store how many fruits and vegetables you eat in a day. \n",
    "Now Print \"I eat x veggies and y fruits daily\" where x and y presents vegetables and fruits that you eat everyday. \n",
    "Use python f string for this."
   ]
  },
  {
   "cell_type": "code",
   "execution_count": 48,
   "id": "8f885e4c",
   "metadata": {},
   "outputs": [
    {
     "name": "stdout",
     "output_type": "stream",
     "text": [
      "I eat 2 veggies and 1 fruits daily\n"
     ]
    }
   ],
   "source": [
    "x=2\n",
    "y=1\n",
    "print(f\"I eat {x} veggies and {y} fruits daily\")"
   ]
  },
  {
   "cell_type": "raw",
   "id": "546d9a23",
   "metadata": {},
   "source": [
    "I have a string variable called s='maine 200 banana khaye'. \n",
    "This of course is a wrong statement, the correct statement is 'maine 10 samosa khaye'. \n",
    "Replace incorrect words in original strong with new ones and print the new string. Also try to do this in one line."
   ]
  },
  {
   "cell_type": "code",
   "execution_count": 59,
   "id": "60b0ddde",
   "metadata": {},
   "outputs": [
    {
     "name": "stdout",
     "output_type": "stream",
     "text": [
      "maine 10 samosa khaye\n",
      "Using single line: maine 10 samosa khaye\n"
     ]
    }
   ],
   "source": [
    "w='maine 200 banana khaye'\n",
    "c='maine 10 samosa khaye'\n",
    "final1=w.replace('200','10')\n",
    "last=final1.replace('banana','samosa')\n",
    "print(last)\n",
    "s='maine 200 banana khaye'\n",
    "s=s.replace('banana','samosa').replace('200','10')\n",
    "print(\"Using single line:\",s)"
   ]
  },
  {
   "cell_type": "markdown",
   "id": "f63d22f0",
   "metadata": {},
   "source": [
    "# Lists"
   ]
  },
  {
   "cell_type": "raw",
   "id": "03bed412",
   "metadata": {},
   "source": [
    "Let us say your expense for every month are listed below,\n",
    "January - 2200\n",
    "February - 2350\n",
    "March - 2600\n",
    "April - 2130\n",
    "May - 2190\n",
    "Create a list to store these monthly expenses and using that find out,\n",
    "\n",
    "1. In Feb, how many dollars you spent extra compare to January?\n",
    "2. Find out your total expense in first quarter (first three months) of the year.\n",
    "3. Find out if you spent exactly 2000 dollars in any month\n",
    "4. June month just finished and your expense is 1980 dollar. Add this item to our monthly expense list\n",
    "5. You returned an item that you bought in a month of April and\n",
    "got a refund of 200$. Make a correction to your monthly expense list\n",
    "based on this"
   ]
  },
  {
   "cell_type": "code",
   "execution_count": 60,
   "id": "e176463b",
   "metadata": {},
   "outputs": [
    {
     "name": "stdout",
     "output_type": "stream",
     "text": [
      "150\n"
     ]
    }
   ],
   "source": [
    "#1. In Feb, how many dollars you spent extra compare to January?\n",
    "exp=[2200,2350,2600,2130,2190]\n",
    "feb=exp[1]-exp[0]\n",
    "print(feb)"
   ]
  },
  {
   "cell_type": "code",
   "execution_count": 61,
   "id": "00e7d563",
   "metadata": {},
   "outputs": [
    {
     "name": "stdout",
     "output_type": "stream",
     "text": [
      "7150\n"
     ]
    }
   ],
   "source": [
    "#2. Find out your total expense in first quarter (first three months) of the year.\n",
    "qua=exp[0]+exp[1]+exp[2]\n",
    "print(qua)"
   ]
  },
  {
   "cell_type": "code",
   "execution_count": 62,
   "id": "e4189085",
   "metadata": {},
   "outputs": [
    {
     "name": "stdout",
     "output_type": "stream",
     "text": [
      "False\n"
     ]
    }
   ],
   "source": [
    "#3. Find out if you spent exactly 2000 dollars in any month\n",
    "print(2000 in exp)"
   ]
  },
  {
   "cell_type": "code",
   "execution_count": 65,
   "id": "aa2d869b",
   "metadata": {},
   "outputs": [
    {
     "name": "stdout",
     "output_type": "stream",
     "text": [
      "[2200, 2350, 2600, 2130, 2190, 1980]\n"
     ]
    }
   ],
   "source": [
    "#4. June month just finished and your expense is 1980 dollar. Add this item to our monthly expense list\n",
    "exp.append(1980)\n",
    "print(exp)"
   ]
  },
  {
   "cell_type": "code",
   "execution_count": 67,
   "id": "f74ce427",
   "metadata": {},
   "outputs": [
    {
     "name": "stdout",
     "output_type": "stream",
     "text": [
      "1930\n",
      "[2200, 2350, 2600, 1930, 2190, 1980]\n"
     ]
    }
   ],
   "source": [
    "#5. You returned an item that you bought in a month of April and got a refund of 200$. \n",
    "# Make a correction to your monthly expense list based on this\n",
    "exp1=exp[3]-200\n",
    "print(exp1)\n",
    "exp[3]=1930\n",
    "print(exp)"
   ]
  },
  {
   "cell_type": "raw",
   "id": "c80c6b2f",
   "metadata": {},
   "source": [
    "You have a list of your favourite marvel super heros.\n",
    "heros=['spider man','thor','hulk','iron man','captain america']\n",
    "\n",
    "Using this find out,\n",
    "1. Length of the list\n",
    "2. Add 'black panther' at the end of this list\n",
    "3. You realize that you need to add 'black panther' after 'hulk',\n",
    "   so remove it from the list first and then add it after 'hulk'\n",
    "4. Now you don't like thor and hulk because they get angry easily :)\n",
    "   So you want to remove thor and hulk from list and replace them with doctor strange (because he is cool).\n",
    "   Do that with one line of code.\n",
    "5. Sort the heros list in alphabetical order (Hint. Use dir() functions to list down all functions available in list)"
   ]
  },
  {
   "cell_type": "code",
   "execution_count": 68,
   "id": "729b0ff3",
   "metadata": {},
   "outputs": [],
   "source": [
    "heros=['spider man','thor','hulk','iron man','captain america']"
   ]
  },
  {
   "cell_type": "code",
   "execution_count": 72,
   "id": "ed278fef",
   "metadata": {},
   "outputs": [
    {
     "data": {
      "text/plain": [
       "5"
      ]
     },
     "execution_count": 72,
     "metadata": {},
     "output_type": "execute_result"
    }
   ],
   "source": [
    "#1. Length of the list\n",
    "len(heros)"
   ]
  },
  {
   "cell_type": "code",
   "execution_count": 74,
   "id": "4f4d7513",
   "metadata": {},
   "outputs": [
    {
     "name": "stdout",
     "output_type": "stream",
     "text": [
      "['spider man', 'thor', 'hulk', 'iron man', 'captain america', 'black panther', 'black panther']\n"
     ]
    }
   ],
   "source": [
    "#2. Add 'black panther' at the end of this list\n",
    "heros.append('black panther')\n",
    "print(heros)"
   ]
  },
  {
   "cell_type": "code",
   "execution_count": 75,
   "id": "ea6b5741",
   "metadata": {},
   "outputs": [
    {
     "name": "stdout",
     "output_type": "stream",
     "text": [
      "['spider man', 'thor', 'hulk', 'black panther', 'captain america', 'black panther']\n"
     ]
    }
   ],
   "source": [
    "#3. You realize that you need to add 'black panther' after 'hulk',\n",
    "#so remove it from the list first and then add it after 'hulk'\n",
    "heros.remove('black panther')\n",
    "heros[3]='black panther'\n",
    "print(heros)"
   ]
  },
  {
   "cell_type": "code",
   "execution_count": 77,
   "id": "7765eef6",
   "metadata": {},
   "outputs": [
    {
     "name": "stdout",
     "output_type": "stream",
     "text": [
      "['spider man', 'doctor strange', 'hulk', 'black panther', 'captain america', 'black panther']\n"
     ]
    }
   ],
   "source": [
    "#4. Now you don't like thor and hulk because they get angry easily :)\n",
    " #  So you want to remove thor and hulk from list and replace them with doctor strange (because he is cool).\n",
    "  # Do that with one line of code.\n",
    "heros[1]='doctor strange'\n",
    "print(heros"
   ]
  },
  {
   "cell_type": "code",
   "execution_count": null,
   "id": "0747b345",
   "metadata": {},
   "outputs": [],
   "source": []
  }
 ],
 "metadata": {
  "kernelspec": {
   "display_name": "Python 3 (ipykernel)",
   "language": "python",
   "name": "python3"
  },
  "language_info": {
   "codemirror_mode": {
    "name": "ipython",
    "version": 3
   },
   "file_extension": ".py",
   "mimetype": "text/x-python",
   "name": "python",
   "nbconvert_exporter": "python",
   "pygments_lexer": "ipython3",
   "version": "3.9.12"
  }
 },
 "nbformat": 4,
 "nbformat_minor": 5
}
